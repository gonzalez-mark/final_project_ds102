{
 "cells": [
  {
   "cell_type": "code",
   "execution_count": 5,
   "metadata": {},
   "outputs": [],
   "source": [
    "import pandas as pd\n",
    "import numpy as np"
   ]
  },
  {
   "cell_type": "code",
   "execution_count": 6,
   "metadata": {},
   "outputs": [],
   "source": [
    "dataset_folder='nba_datasets/'"
   ]
  },
  {
   "cell_type": "code",
   "execution_count": 7,
   "metadata": {},
   "outputs": [
    {
     "name": "stderr",
     "output_type": "stream",
     "text": [
      "/usr/local/anaconda3/lib/python3.8/site-packages/IPython/core/interactiveshell.py:3165: DtypeWarning: Columns (6) have mixed types.Specify dtype option on import or set low_memory=False.\n",
      "  has_raised = await self.run_ast_nodes(code_ast.body, cell_name,\n"
     ]
    }
   ],
   "source": [
    "players = pd.read_csv(dataset_folder+\"players.csv\")\n",
    "teams = pd.read_csv(dataset_folder+\"teams.csv\")\n",
    "ranking = pd.read_csv(dataset_folder+\"ranking.csv\")\n",
    "games = pd.read_csv(dataset_folder+\"games.csv\")\n",
    "games_details = pd.read_csv(dataset_folder+\"games_details.csv\")"
   ]
  },
  {
   "cell_type": "code",
   "execution_count": 8,
   "metadata": {},
   "outputs": [
    {
     "data": {
      "text/html": [
       "<div>\n",
       "<style scoped>\n",
       "    .dataframe tbody tr th:only-of-type {\n",
       "        vertical-align: middle;\n",
       "    }\n",
       "\n",
       "    .dataframe tbody tr th {\n",
       "        vertical-align: top;\n",
       "    }\n",
       "\n",
       "    .dataframe thead th {\n",
       "        text-align: right;\n",
       "    }\n",
       "</style>\n",
       "<table border=\"1\" class=\"dataframe\">\n",
       "  <thead>\n",
       "    <tr style=\"text-align: right;\">\n",
       "      <th></th>\n",
       "      <th>PLAYER_NAME</th>\n",
       "      <th>TEAM_ID</th>\n",
       "      <th>PLAYER_ID</th>\n",
       "      <th>SEASON</th>\n",
       "    </tr>\n",
       "  </thead>\n",
       "  <tbody>\n",
       "    <tr>\n",
       "      <th>0</th>\n",
       "      <td>Royce O'Neale</td>\n",
       "      <td>1610612762</td>\n",
       "      <td>1626220</td>\n",
       "      <td>2019</td>\n",
       "    </tr>\n",
       "    <tr>\n",
       "      <th>1</th>\n",
       "      <td>Bojan Bogdanovic</td>\n",
       "      <td>1610612762</td>\n",
       "      <td>202711</td>\n",
       "      <td>2019</td>\n",
       "    </tr>\n",
       "    <tr>\n",
       "      <th>2</th>\n",
       "      <td>Rudy Gobert</td>\n",
       "      <td>1610612762</td>\n",
       "      <td>203497</td>\n",
       "      <td>2019</td>\n",
       "    </tr>\n",
       "    <tr>\n",
       "      <th>3</th>\n",
       "      <td>Donovan Mitchell</td>\n",
       "      <td>1610612762</td>\n",
       "      <td>1628378</td>\n",
       "      <td>2019</td>\n",
       "    </tr>\n",
       "    <tr>\n",
       "      <th>4</th>\n",
       "      <td>Mike Conley</td>\n",
       "      <td>1610612762</td>\n",
       "      <td>201144</td>\n",
       "      <td>2019</td>\n",
       "    </tr>\n",
       "  </tbody>\n",
       "</table>\n",
       "</div>"
      ],
      "text/plain": [
       "        PLAYER_NAME     TEAM_ID  PLAYER_ID  SEASON\n",
       "0     Royce O'Neale  1610612762    1626220    2019\n",
       "1  Bojan Bogdanovic  1610612762     202711    2019\n",
       "2       Rudy Gobert  1610612762     203497    2019\n",
       "3  Donovan Mitchell  1610612762    1628378    2019\n",
       "4       Mike Conley  1610612762     201144    2019"
      ]
     },
     "execution_count": 8,
     "metadata": {},
     "output_type": "execute_result"
    }
   ],
   "source": [
    "players.head(5)"
   ]
  },
  {
   "cell_type": "code",
   "execution_count": 9,
   "metadata": {},
   "outputs": [
    {
     "data": {
      "text/html": [
       "<div>\n",
       "<style scoped>\n",
       "    .dataframe tbody tr th:only-of-type {\n",
       "        vertical-align: middle;\n",
       "    }\n",
       "\n",
       "    .dataframe tbody tr th {\n",
       "        vertical-align: top;\n",
       "    }\n",
       "\n",
       "    .dataframe thead th {\n",
       "        text-align: right;\n",
       "    }\n",
       "</style>\n",
       "<table border=\"1\" class=\"dataframe\">\n",
       "  <thead>\n",
       "    <tr style=\"text-align: right;\">\n",
       "      <th></th>\n",
       "      <th>LEAGUE_ID</th>\n",
       "      <th>TEAM_ID</th>\n",
       "      <th>MIN_YEAR</th>\n",
       "      <th>MAX_YEAR</th>\n",
       "      <th>ABBREVIATION</th>\n",
       "      <th>NICKNAME</th>\n",
       "      <th>YEARFOUNDED</th>\n",
       "      <th>CITY</th>\n",
       "      <th>ARENA</th>\n",
       "      <th>ARENACAPACITY</th>\n",
       "      <th>OWNER</th>\n",
       "      <th>GENERALMANAGER</th>\n",
       "      <th>HEADCOACH</th>\n",
       "      <th>DLEAGUEAFFILIATION</th>\n",
       "    </tr>\n",
       "  </thead>\n",
       "  <tbody>\n",
       "    <tr>\n",
       "      <th>0</th>\n",
       "      <td>0</td>\n",
       "      <td>1610612737</td>\n",
       "      <td>1949</td>\n",
       "      <td>2019</td>\n",
       "      <td>ATL</td>\n",
       "      <td>Hawks</td>\n",
       "      <td>1949</td>\n",
       "      <td>Atlanta</td>\n",
       "      <td>State Farm Arena</td>\n",
       "      <td>18729.0</td>\n",
       "      <td>Tony Ressler</td>\n",
       "      <td>Travis Schlenk</td>\n",
       "      <td>Lloyd Pierce</td>\n",
       "      <td>Erie Bayhawks</td>\n",
       "    </tr>\n",
       "    <tr>\n",
       "      <th>1</th>\n",
       "      <td>0</td>\n",
       "      <td>1610612738</td>\n",
       "      <td>1946</td>\n",
       "      <td>2019</td>\n",
       "      <td>BOS</td>\n",
       "      <td>Celtics</td>\n",
       "      <td>1946</td>\n",
       "      <td>Boston</td>\n",
       "      <td>TD Garden</td>\n",
       "      <td>18624.0</td>\n",
       "      <td>Wyc Grousbeck</td>\n",
       "      <td>Danny Ainge</td>\n",
       "      <td>Brad Stevens</td>\n",
       "      <td>Maine Red Claws</td>\n",
       "    </tr>\n",
       "    <tr>\n",
       "      <th>2</th>\n",
       "      <td>0</td>\n",
       "      <td>1610612740</td>\n",
       "      <td>2002</td>\n",
       "      <td>2019</td>\n",
       "      <td>NOP</td>\n",
       "      <td>Pelicans</td>\n",
       "      <td>2002</td>\n",
       "      <td>New Orleans</td>\n",
       "      <td>Smoothie King Center</td>\n",
       "      <td>NaN</td>\n",
       "      <td>Tom Benson</td>\n",
       "      <td>Trajan Langdon</td>\n",
       "      <td>Alvin Gentry</td>\n",
       "      <td>No Affiliate</td>\n",
       "    </tr>\n",
       "    <tr>\n",
       "      <th>3</th>\n",
       "      <td>0</td>\n",
       "      <td>1610612741</td>\n",
       "      <td>1966</td>\n",
       "      <td>2019</td>\n",
       "      <td>CHI</td>\n",
       "      <td>Bulls</td>\n",
       "      <td>1966</td>\n",
       "      <td>Chicago</td>\n",
       "      <td>United Center</td>\n",
       "      <td>21711.0</td>\n",
       "      <td>Jerry Reinsdorf</td>\n",
       "      <td>Gar Forman</td>\n",
       "      <td>Jim Boylen</td>\n",
       "      <td>Windy City Bulls</td>\n",
       "    </tr>\n",
       "    <tr>\n",
       "      <th>4</th>\n",
       "      <td>0</td>\n",
       "      <td>1610612742</td>\n",
       "      <td>1980</td>\n",
       "      <td>2019</td>\n",
       "      <td>DAL</td>\n",
       "      <td>Mavericks</td>\n",
       "      <td>1980</td>\n",
       "      <td>Dallas</td>\n",
       "      <td>American Airlines Center</td>\n",
       "      <td>19200.0</td>\n",
       "      <td>Mark Cuban</td>\n",
       "      <td>Donnie Nelson</td>\n",
       "      <td>Rick Carlisle</td>\n",
       "      <td>Texas Legends</td>\n",
       "    </tr>\n",
       "  </tbody>\n",
       "</table>\n",
       "</div>"
      ],
      "text/plain": [
       "   LEAGUE_ID     TEAM_ID  MIN_YEAR  MAX_YEAR ABBREVIATION   NICKNAME  \\\n",
       "0          0  1610612737      1949      2019          ATL      Hawks   \n",
       "1          0  1610612738      1946      2019          BOS    Celtics   \n",
       "2          0  1610612740      2002      2019          NOP   Pelicans   \n",
       "3          0  1610612741      1966      2019          CHI      Bulls   \n",
       "4          0  1610612742      1980      2019          DAL  Mavericks   \n",
       "\n",
       "   YEARFOUNDED         CITY                     ARENA  ARENACAPACITY  \\\n",
       "0         1949      Atlanta          State Farm Arena        18729.0   \n",
       "1         1946       Boston                 TD Garden        18624.0   \n",
       "2         2002  New Orleans      Smoothie King Center            NaN   \n",
       "3         1966      Chicago             United Center        21711.0   \n",
       "4         1980       Dallas  American Airlines Center        19200.0   \n",
       "\n",
       "             OWNER  GENERALMANAGER      HEADCOACH DLEAGUEAFFILIATION  \n",
       "0     Tony Ressler  Travis Schlenk   Lloyd Pierce      Erie Bayhawks  \n",
       "1    Wyc Grousbeck     Danny Ainge   Brad Stevens    Maine Red Claws  \n",
       "2       Tom Benson  Trajan Langdon   Alvin Gentry       No Affiliate  \n",
       "3  Jerry Reinsdorf      Gar Forman     Jim Boylen   Windy City Bulls  \n",
       "4       Mark Cuban   Donnie Nelson  Rick Carlisle      Texas Legends  "
      ]
     },
     "execution_count": 9,
     "metadata": {},
     "output_type": "execute_result"
    }
   ],
   "source": [
    "teams.head(5)"
   ]
  },
  {
   "attachments": {},
   "cell_type": "markdown",
   "metadata": {},
   "source": []
  },
  {
   "cell_type": "code",
   "execution_count": 10,
   "metadata": {},
   "outputs": [
    {
     "data": {
      "text/plain": [
       "26"
      ]
     },
     "execution_count": 10,
     "metadata": {},
     "output_type": "execute_result"
    }
   ],
   "source": [
    "datasets=[players, teams, ranking, games, games_details]\n",
    "for ds in datasets:\n",
    "    print(\"\")\n"
   ]
  }
 ],
 "metadata": {
  "kernelspec": {
   "display_name": "firstEnv",
   "language": "python",
   "name": "firstenv"
  },
  "language_info": {
   "codemirror_mode": {
    "name": "ipython",
    "version": 3
   },
   "file_extension": ".py",
   "mimetype": "text/x-python",
   "name": "python",
   "nbconvert_exporter": "python",
   "pygments_lexer": "ipython3",
   "version": "3.8.8"
  },
  "orig_nbformat": 4
 },
 "nbformat": 4,
 "nbformat_minor": 2
}
